{
 "cells": [
  {
   "cell_type": "code",
   "execution_count": null,
   "id": "29fc9ee6",
   "metadata": {},
   "outputs": [],
   "source": [
    "import pandas as pd\n",
    "import numpy as np\n",
    "import matplotlib.pyplot as plt\n",
    "import seaborn as sns"
   ]
  },
  {
   "cell_type": "markdown",
   "id": "37719608",
   "metadata": {},
   "source": [
    "### Downnload dataset using [this](https://https://www.kaggle.com/datasets/himanshupoddar/zomato-bangalore-restaurants?select=zomato.csv) link"
   ]
  },
  {
   "cell_type": "code",
   "execution_count": null,
   "id": "6f5f457d",
   "metadata": {},
   "outputs": [],
   "source": [
    "df = pd.read_csv(\"A:\\Code\\GitHub\\Zomato\\zomato.csv\")"
   ]
  },
  {
   "cell_type": "code",
   "execution_count": null,
   "id": "b3a2fa6f",
   "metadata": {},
   "outputs": [],
   "source": [
    "df.head(2)"
   ]
  },
  {
   "cell_type": "code",
   "execution_count": null,
   "id": "b4992d08",
   "metadata": {},
   "outputs": [],
   "source": [
    "df.shape"
   ]
  },
  {
   "cell_type": "code",
   "execution_count": null,
   "id": "a92b05a5",
   "metadata": {},
   "outputs": [],
   "source": [
    "#dropping unnecessary columns\n",
    "\n",
    "df = df.drop(['url', 'address', 'phone', 'menu_item', 'dish_liked', 'reviews_list'], axis = 1)\n",
    "df.head()"
   ]
  },
  {
   "cell_type": "code",
   "execution_count": null,
   "id": "d063380b",
   "metadata": {},
   "outputs": [],
   "source": [
    "# dropping duplicates\n",
    "\n",
    "df.drop_duplicates(inplace = True)\n",
    "df.shape"
   ]
  },
  {
   "cell_type": "code",
   "execution_count": null,
   "id": "35ea68e7",
   "metadata": {},
   "outputs": [],
   "source": [
    "# cleaning rate column\n",
    "\n",
    "df['rate'].unique()\n"
   ]
  },
  {
   "cell_type": "code",
   "execution_count": null,
   "id": "ce522708",
   "metadata": {},
   "outputs": [],
   "source": [
    "# Removing \"NEW\" , \"-\" and \"/5\" from Rate Column\n",
    "\n",
    "\n",
    "def rate(value):\n",
    "    if(value=='NEW' or value=='-'):\n",
    "        return np.nan\n",
    "    else:\n",
    "        value = str(value).split('/')\n",
    "        value = value[0]\n",
    "        return float(value)\n",
    "    \n",
    "df['rate'] = df['rate'].apply(rate)\n",
    "df['rate'].head()"
   ]
  },
  {
   "cell_type": "code",
   "execution_count": null,
   "id": "d6b4d987",
   "metadata": {},
   "outputs": [],
   "source": [
    "# filling null values with mean of 'Rate' column\n",
    "df['rate'].fillna(df['rate'].mean(), inplace = True)\n",
    "df['rate'].isnull().sum()"
   ]
  },
  {
   "cell_type": "code",
   "execution_count": null,
   "id": "79912fd7",
   "metadata": {},
   "outputs": [],
   "source": [
    "df.info()"
   ]
  },
  {
   "cell_type": "code",
   "execution_count": null,
   "id": "46da163b",
   "metadata": {},
   "outputs": [],
   "source": [
    "# Dropping Null Values\n",
    "df.dropna(inplace = True)"
   ]
  },
  {
   "cell_type": "code",
   "execution_count": null,
   "id": "cf2ca015",
   "metadata": {},
   "outputs": [],
   "source": [
    "df.head()"
   ]
  },
  {
   "cell_type": "code",
   "execution_count": null,
   "id": "d75ce2c4",
   "metadata": {},
   "outputs": [],
   "source": [
    "# renaming column\n",
    "df.rename(columns = {'approx_cost(for two people)':'Cost2plates', 'listed_in(type)':'Type'}, inplace = True)\n",
    "df.head()"
   ]
  },
  {
   "cell_type": "code",
   "execution_count": null,
   "id": "f306797a",
   "metadata": {},
   "outputs": [],
   "source": [
    "df['location'].unique()\n"
   ]
  },
  {
   "cell_type": "code",
   "execution_count": null,
   "id": "0b49aa8d",
   "metadata": {},
   "outputs": [],
   "source": [
    "#Listed in(city) and location, both are there, lets keep only one"
   ]
  },
  {
   "cell_type": "code",
   "execution_count": null,
   "id": "b945fa78",
   "metadata": {},
   "outputs": [],
   "source": [
    "df = df.drop(['listed_in(city)'], axis = 1)"
   ]
  },
  {
   "cell_type": "code",
   "execution_count": null,
   "id": "b9c54d86",
   "metadata": {},
   "outputs": [],
   "source": [
    "df['Cost2plates'].unique()"
   ]
  },
  {
   "cell_type": "code",
   "execution_count": null,
   "id": "4c5f3ed3",
   "metadata": {},
   "outputs": [],
   "source": [
    "# Removing , from Cost2Plates Column"
   ]
  },
  {
   "cell_type": "code",
   "execution_count": null,
   "id": "9a0e50da",
   "metadata": {},
   "outputs": [],
   "source": [
    "def comma(value):\n",
    "    value = str(value)\n",
    "    if ',' in value:\n",
    "        value = value.replace(',', '')\n",
    "        return float(value)\n",
    "    else:\n",
    "        return float(value)\n",
    "    \n",
    "df['Cost2plates'] = df['Cost2plates'].apply(comma)\n",
    "df['Cost2plates'].unique()"
   ]
  },
  {
   "cell_type": "code",
   "execution_count": null,
   "id": "6b8eafd2",
   "metadata": {},
   "outputs": [],
   "source": [
    "df.head()"
   ]
  },
  {
   "cell_type": "code",
   "execution_count": null,
   "id": "d6fdaf33",
   "metadata": {},
   "outputs": [],
   "source": [
    "#Cleaning Rest Type Column\n",
    "\n",
    "rest_types = df['rest_type'].value_counts(ascending  = False)\n",
    "rest_types"
   ]
  },
  {
   "cell_type": "code",
   "execution_count": null,
   "id": "cdd90e14",
   "metadata": {},
   "outputs": [],
   "source": [
    "rest_types_lessthan1000 = rest_types[rest_types<1000]\n",
    "rest_types_lessthan1000"
   ]
  },
  {
   "cell_type": "code",
   "execution_count": null,
   "id": "3aa4b7a7",
   "metadata": {},
   "outputs": [],
   "source": [
    "#Making Rest Types less than 1000 in frequency as others"
   ]
  },
  {
   "cell_type": "code",
   "execution_count": null,
   "id": "d9ec258c",
   "metadata": {},
   "outputs": [],
   "source": [
    "def handle_rest_type(value):\n",
    "    if(value in rest_types_lessthan1000):\n",
    "        return 'others'\n",
    "    else:\n",
    "        return value\n",
    "        \n",
    "df['rest_type'] = df['rest_type'].apply(handle_rest_type)\n",
    "df['rest_type'].value_counts()"
   ]
  },
  {
   "cell_type": "code",
   "execution_count": null,
   "id": "176424b3",
   "metadata": {},
   "outputs": [],
   "source": [
    "#Cleaning Location Column"
   ]
  },
  {
   "cell_type": "code",
   "execution_count": null,
   "id": "a1a00681",
   "metadata": {},
   "outputs": [],
   "source": [
    "location = df['location'].value_counts(ascending  = False)\n",
    "location_lessthan300 = location[location<300]"
   ]
  },
  {
   "cell_type": "code",
   "execution_count": null,
   "id": "243707b6",
   "metadata": {},
   "outputs": [],
   "source": [
    "def handle_location(value):\n",
    "    if(value in location_lessthan300):\n",
    "        return 'others'\n",
    "    else:\n",
    "        return value\n",
    "        \n",
    "df['location'] = df['location'].apply(handle_location)\n",
    "df['location'].value_counts()"
   ]
  },
  {
   "cell_type": "code",
   "execution_count": null,
   "id": "5b822fc1",
   "metadata": {},
   "outputs": [],
   "source": [
    "#Cleaning Cuisines Column"
   ]
  },
  {
   "cell_type": "code",
   "execution_count": null,
   "id": "448db397",
   "metadata": {},
   "outputs": [],
   "source": [
    "cusines = df['cuisines'].value_counts(ascending  = False)\n",
    "cusines_lessthan100 = cusines[cusines<300]"
   ]
  },
  {
   "cell_type": "code",
   "execution_count": null,
   "id": "32659b50",
   "metadata": {},
   "outputs": [],
   "source": [
    "def handle_cusines(value):\n",
    "    if(value in cusines_lessthan100):\n",
    "        return 'others'\n",
    "    else:\n",
    "        return value\n",
    "        \n",
    "df['cuisines'] = df['cuisines'].apply(handle_cusines)\n",
    "df['cuisines'].value_counts()"
   ]
  },
  {
   "cell_type": "code",
   "execution_count": null,
   "id": "715196e3",
   "metadata": {},
   "outputs": [],
   "source": [
    "df.head()"
   ]
  },
  {
   "cell_type": "code",
   "execution_count": null,
   "id": "616a33ea",
   "metadata": {},
   "outputs": [],
   "source": [
    "# Visualization"
   ]
  },
  {
   "cell_type": "code",
   "execution_count": null,
   "id": "3ed5333c",
   "metadata": {},
   "outputs": [],
   "source": [
    "#Count Plot of Various Locations\n",
    "plt.figure(figsize = (16,10))\n",
    "ax = sns.countplot(df['location'])\n",
    "plt.xticks(rotation=90)"
   ]
  },
  {
   "cell_type": "code",
   "execution_count": null,
   "id": "82053ab3",
   "metadata": {},
   "outputs": [],
   "source": [
    "#Visualizing Online Order\n",
    "plt.figure(figsize = (8,5))\n",
    "ax = sns.countplot(df['online_order'])"
   ]
  },
  {
   "cell_type": "code",
   "execution_count": null,
   "id": "d4d239e1",
   "metadata": {},
   "outputs": [],
   "source": [
    "#Visualizing Book Table\n",
    "plt.figure(figsize = (8,5))\n",
    "ax = sns.countplot(df['book_table'])"
   ]
  },
  {
   "cell_type": "code",
   "execution_count": null,
   "id": "63427b22",
   "metadata": {},
   "outputs": [],
   "source": [
    "#Visualizing Online Order vs Rate\n",
    "plt.figure(figsize = (6,6))\n",
    "sns.boxplot(x = 'online_order', y = 'rate', data = df)"
   ]
  },
  {
   "cell_type": "code",
   "execution_count": null,
   "id": "182e6312",
   "metadata": {},
   "outputs": [],
   "source": [
    "#Visualizing Book table vs Rate\n",
    "plt.figure(figsize = (6,6))\n",
    "sns.boxplot(x = 'book_table', y = 'rate', data = df)"
   ]
  },
  {
   "cell_type": "code",
   "execution_count": null,
   "id": "4d55e7b4",
   "metadata": {},
   "outputs": [],
   "source": [
    "#Visualizing Online Order Facility, Location Wise\n",
    "df1 = df.groupby(['location','online_order'])['name'].count()\n",
    "df1.to_csv('location_online.csv')\n",
    "df1 = pd.read_csv('location_online.csv')\n",
    "df1 = pd.pivot_table(df1, values=None, index=['location'], columns=['online_order'], fill_value=0, aggfunc=np.sum)\n",
    "df1"
   ]
  },
  {
   "cell_type": "code",
   "execution_count": null,
   "id": "d2c3556a",
   "metadata": {},
   "outputs": [],
   "source": [
    "df1.plot(kind = 'bar', figsize = (15,8))\n"
   ]
  },
  {
   "cell_type": "code",
   "execution_count": null,
   "id": "8bd8ae20",
   "metadata": {},
   "outputs": [],
   "source": [
    "# Visualizing Book Table Facility, Location Wise"
   ]
  },
  {
   "cell_type": "code",
   "execution_count": null,
   "id": "f312400b",
   "metadata": {},
   "outputs": [],
   "source": [
    "df2 = df.groupby(['location','book_table'])['name'].count()\n",
    "df2.to_csv('location_booktable.csv')\n",
    "df2 = pd.read_csv('location_booktable.csv')\n",
    "df2 = pd.pivot_table(df2, values=None, index=['location'], columns=['book_table'], fill_value=0, aggfunc=np.sum)\n",
    "df2"
   ]
  },
  {
   "cell_type": "code",
   "execution_count": null,
   "id": "6c5c4ab5",
   "metadata": {},
   "outputs": [],
   "source": [
    "#Visualizing Types of Restaurents vs Rate\n",
    "plt.figure(figsize = (14, 8))\n",
    "sns.boxplot(x = 'Type', y = 'rate', data = df, palette = 'inferno')"
   ]
  },
  {
   "cell_type": "code",
   "execution_count": null,
   "id": "d9b72628",
   "metadata": {},
   "outputs": [],
   "source": [
    "#Grouping Types of Restaurents, location wise\n",
    "df3 = df.groupby(['location','Type'])['name'].count()\n",
    "df3.to_csv('location_Type.csv')\n",
    "df3 = pd.read_csv('location_Type.csv')\n",
    "df3 = pd.pivot_table(df3, values=None, index=['location'], columns=['Type'], fill_value=0, aggfunc=np.sum)\n",
    "df3"
   ]
  },
  {
   "cell_type": "code",
   "execution_count": null,
   "id": "449f1f87",
   "metadata": {},
   "outputs": [],
   "source": [
    "df3.plot(kind = 'bar', figsize = (36,8))"
   ]
  },
  {
   "cell_type": "code",
   "execution_count": null,
   "id": "c3e30ea5",
   "metadata": {},
   "outputs": [],
   "source": [
    "#No. of Votes, Location Wise\n",
    "df4 = df[['location', 'votes']]\n",
    "df4.drop_duplicates()\n",
    "df5 = df4.groupby(['location'])['votes'].sum()\n",
    "df5 = df5.to_frame()\n",
    "df5 = df5.sort_values('votes', ascending=False)\n",
    "df5.head()"
   ]
  },
  {
   "cell_type": "code",
   "execution_count": null,
   "id": "53c0f2f4",
   "metadata": {},
   "outputs": [],
   "source": [
    "plt.figure(figsize = (15,8))\n",
    "sns.barplot(df5.index , df5['votes'])\n",
    "plt.xticks(rotation = 90 )"
   ]
  },
  {
   "cell_type": "markdown",
   "id": "edb74661",
   "metadata": {},
   "source": [
    "# INFERENCE\n",
    "BTM has more number of restaurants compared to all other locations.\n",
    "\n",
    "If anyone want to open a restaurants, they should target for Old Airport Road and St.Marks Road, because those areas have least number of restaurants.\n",
    "\n",
    "Most of the restaurants are having online order facility\n",
    "\n",
    "Most of the restaurants are not having book table feature\n",
    "\n",
    "The resturants having online order and book table facility has higher ratings compared to not having facility,if the restaurants need more rating, then they should provide online order and book table facility\n",
    "\n",
    "People are like to give more ratings for Drink & Nightlife, Pubs and bars type restaurants\n",
    "\n",
    "Pubs and Bars types restaurants will make more money in Shivajinagar.\n",
    "\n",
    "Preople love to vote the restaurants which are in Koramagala\n",
    "\n"
   ]
  }
 ],
 "metadata": {
  "kernelspec": {
   "display_name": "Python 3 (ipykernel)",
   "language": "python",
   "name": "python3"
  },
  "language_info": {
   "codemirror_mode": {
    "name": "ipython",
    "version": 3
   },
   "file_extension": ".py",
   "mimetype": "text/x-python",
   "name": "python",
   "nbconvert_exporter": "python",
   "pygments_lexer": "ipython3",
   "version": "3.9.12"
  }
 },
 "nbformat": 4,
 "nbformat_minor": 5
}
